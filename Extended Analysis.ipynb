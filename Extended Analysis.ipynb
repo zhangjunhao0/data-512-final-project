{
 "cells": [
  {
   "cell_type": "markdown",
   "metadata": {},
   "source": [
    "# A5-A7: Extended Analysis"
   ]
  },
  {
   "cell_type": "markdown",
   "metadata": {},
   "source": [
    "In this analysis, we will explore if vaccination is effective in reducing the spread of COVID-19."
   ]
  },
  {
   "cell_type": "markdown",
   "metadata": {},
   "source": [
    "## Data Loading"
   ]
  },
  {
   "cell_type": "markdown",
   "metadata": {},
   "source": [
    "In this section, we import library and load data."
   ]
  },
  {
   "cell_type": "code",
   "execution_count": 1,
   "metadata": {},
   "outputs": [],
   "source": [
    "import pandas as pd\n",
    "import numpy as np\n",
    "import matplotlib.pyplot as plt"
   ]
  },
  {
   "cell_type": "code",
   "execution_count": 2,
   "metadata": {},
   "outputs": [],
   "source": [
    "covid_cases = pd.read_csv(\"RAW_us_confirmed_cases.csv\")\n",
    "covid_vaccine = pd.read_csv(\"vaccine-by-county.csv\")"
   ]
  },
  {
   "cell_type": "code",
   "execution_count": 3,
   "metadata": {},
   "outputs": [
    {
     "data": {
      "text/html": [
       "<div>\n",
       "<style scoped>\n",
       "    .dataframe tbody tr th:only-of-type {\n",
       "        vertical-align: middle;\n",
       "    }\n",
       "\n",
       "    .dataframe tbody tr th {\n",
       "        vertical-align: top;\n",
       "    }\n",
       "\n",
       "    .dataframe thead th {\n",
       "        text-align: right;\n",
       "    }\n",
       "</style>\n",
       "<table border=\"1\" class=\"dataframe\">\n",
       "  <thead>\n",
       "    <tr style=\"text-align: right;\">\n",
       "      <th></th>\n",
       "      <th>Province_State</th>\n",
       "      <th>Admin2</th>\n",
       "      <th>UID</th>\n",
       "      <th>iso2</th>\n",
       "      <th>iso3</th>\n",
       "      <th>code3</th>\n",
       "      <th>FIPS</th>\n",
       "      <th>Country_Region</th>\n",
       "      <th>Lat</th>\n",
       "      <th>Long_</th>\n",
       "      <th>...</th>\n",
       "      <th>10/23/21</th>\n",
       "      <th>10/24/21</th>\n",
       "      <th>10/25/21</th>\n",
       "      <th>10/26/21</th>\n",
       "      <th>10/27/21</th>\n",
       "      <th>10/28/21</th>\n",
       "      <th>10/29/21</th>\n",
       "      <th>10/30/21</th>\n",
       "      <th>10/31/21</th>\n",
       "      <th>11/1/21</th>\n",
       "    </tr>\n",
       "  </thead>\n",
       "  <tbody>\n",
       "    <tr>\n",
       "      <td>0</td>\n",
       "      <td>Alabama</td>\n",
       "      <td>Autauga</td>\n",
       "      <td>84001001</td>\n",
       "      <td>US</td>\n",
       "      <td>USA</td>\n",
       "      <td>840</td>\n",
       "      <td>1001.0</td>\n",
       "      <td>US</td>\n",
       "      <td>32.539527</td>\n",
       "      <td>-86.644082</td>\n",
       "      <td>...</td>\n",
       "      <td>10043</td>\n",
       "      <td>10047</td>\n",
       "      <td>10048</td>\n",
       "      <td>10061</td>\n",
       "      <td>10083</td>\n",
       "      <td>10219</td>\n",
       "      <td>10228</td>\n",
       "      <td>10239</td>\n",
       "      <td>10252</td>\n",
       "      <td>10258</td>\n",
       "    </tr>\n",
       "    <tr>\n",
       "      <td>1</td>\n",
       "      <td>Alabama</td>\n",
       "      <td>Baldwin</td>\n",
       "      <td>84001003</td>\n",
       "      <td>US</td>\n",
       "      <td>USA</td>\n",
       "      <td>840</td>\n",
       "      <td>1003.0</td>\n",
       "      <td>US</td>\n",
       "      <td>30.727750</td>\n",
       "      <td>-87.722071</td>\n",
       "      <td>...</td>\n",
       "      <td>37245</td>\n",
       "      <td>37258</td>\n",
       "      <td>37266</td>\n",
       "      <td>37285</td>\n",
       "      <td>37325</td>\n",
       "      <td>37350</td>\n",
       "      <td>37372</td>\n",
       "      <td>37398</td>\n",
       "      <td>37414</td>\n",
       "      <td>37425</td>\n",
       "    </tr>\n",
       "    <tr>\n",
       "      <td>2</td>\n",
       "      <td>Alabama</td>\n",
       "      <td>Barbour</td>\n",
       "      <td>84001005</td>\n",
       "      <td>US</td>\n",
       "      <td>USA</td>\n",
       "      <td>840</td>\n",
       "      <td>1005.0</td>\n",
       "      <td>US</td>\n",
       "      <td>31.868263</td>\n",
       "      <td>-85.387129</td>\n",
       "      <td>...</td>\n",
       "      <td>3577</td>\n",
       "      <td>3578</td>\n",
       "      <td>3578</td>\n",
       "      <td>3583</td>\n",
       "      <td>3595</td>\n",
       "      <td>3596</td>\n",
       "      <td>3596</td>\n",
       "      <td>3599</td>\n",
       "      <td>3601</td>\n",
       "      <td>3601</td>\n",
       "    </tr>\n",
       "    <tr>\n",
       "      <td>3</td>\n",
       "      <td>Alabama</td>\n",
       "      <td>Bibb</td>\n",
       "      <td>84001007</td>\n",
       "      <td>US</td>\n",
       "      <td>USA</td>\n",
       "      <td>840</td>\n",
       "      <td>1007.0</td>\n",
       "      <td>US</td>\n",
       "      <td>32.996421</td>\n",
       "      <td>-87.125115</td>\n",
       "      <td>...</td>\n",
       "      <td>4251</td>\n",
       "      <td>4252</td>\n",
       "      <td>4253</td>\n",
       "      <td>4256</td>\n",
       "      <td>4262</td>\n",
       "      <td>4275</td>\n",
       "      <td>4276</td>\n",
       "      <td>4278</td>\n",
       "      <td>4279</td>\n",
       "      <td>4281</td>\n",
       "    </tr>\n",
       "    <tr>\n",
       "      <td>4</td>\n",
       "      <td>Alabama</td>\n",
       "      <td>Blount</td>\n",
       "      <td>84001009</td>\n",
       "      <td>US</td>\n",
       "      <td>USA</td>\n",
       "      <td>840</td>\n",
       "      <td>1009.0</td>\n",
       "      <td>US</td>\n",
       "      <td>33.982109</td>\n",
       "      <td>-86.567906</td>\n",
       "      <td>...</td>\n",
       "      <td>10192</td>\n",
       "      <td>10197</td>\n",
       "      <td>10207</td>\n",
       "      <td>10227</td>\n",
       "      <td>10338</td>\n",
       "      <td>10364</td>\n",
       "      <td>10371</td>\n",
       "      <td>10395</td>\n",
       "      <td>10406</td>\n",
       "      <td>10408</td>\n",
       "    </tr>\n",
       "  </tbody>\n",
       "</table>\n",
       "<p>5 rows × 661 columns</p>\n",
       "</div>"
      ],
      "text/plain": [
       "  Province_State   Admin2       UID iso2 iso3  code3    FIPS Country_Region  \\\n",
       "0        Alabama  Autauga  84001001   US  USA    840  1001.0             US   \n",
       "1        Alabama  Baldwin  84001003   US  USA    840  1003.0             US   \n",
       "2        Alabama  Barbour  84001005   US  USA    840  1005.0             US   \n",
       "3        Alabama     Bibb  84001007   US  USA    840  1007.0             US   \n",
       "4        Alabama   Blount  84001009   US  USA    840  1009.0             US   \n",
       "\n",
       "         Lat      Long_  ... 10/23/21  10/24/21  10/25/21  10/26/21  10/27/21  \\\n",
       "0  32.539527 -86.644082  ...    10043     10047     10048     10061     10083   \n",
       "1  30.727750 -87.722071  ...    37245     37258     37266     37285     37325   \n",
       "2  31.868263 -85.387129  ...     3577      3578      3578      3583      3595   \n",
       "3  32.996421 -87.125115  ...     4251      4252      4253      4256      4262   \n",
       "4  33.982109 -86.567906  ...    10192     10197     10207     10227     10338   \n",
       "\n",
       "   10/28/21  10/29/21  10/30/21  10/31/21  11/1/21  \n",
       "0     10219     10228     10239     10252    10258  \n",
       "1     37350     37372     37398     37414    37425  \n",
       "2      3596      3596      3599      3601     3601  \n",
       "3      4275      4276      4278      4279     4281  \n",
       "4     10364     10371     10395     10406    10408  \n",
       "\n",
       "[5 rows x 661 columns]"
      ]
     },
     "execution_count": 3,
     "metadata": {},
     "output_type": "execute_result"
    }
   ],
   "source": [
    "covid_cases.head()"
   ]
  },
  {
   "cell_type": "code",
   "execution_count": 4,
   "metadata": {},
   "outputs": [
    {
     "data": {
      "text/html": [
       "<div>\n",
       "<style scoped>\n",
       "    .dataframe tbody tr th:only-of-type {\n",
       "        vertical-align: middle;\n",
       "    }\n",
       "\n",
       "    .dataframe tbody tr th {\n",
       "        vertical-align: top;\n",
       "    }\n",
       "\n",
       "    .dataframe thead th {\n",
       "        text-align: right;\n",
       "    }\n",
       "</style>\n",
       "<table border=\"1\" class=\"dataframe\">\n",
       "  <thead>\n",
       "    <tr style=\"text-align: right;\">\n",
       "      <th></th>\n",
       "      <th>Date</th>\n",
       "      <th>FIPS</th>\n",
       "      <th>MMWR_week</th>\n",
       "      <th>Recip_County</th>\n",
       "      <th>Recip_State</th>\n",
       "      <th>Series_Complete_Pop_Pct</th>\n",
       "      <th>Series_Complete_Yes</th>\n",
       "      <th>Series_Complete_12Plus</th>\n",
       "      <th>Series_Complete_12PlusPop_Pct</th>\n",
       "      <th>Series_Complete_18Plus</th>\n",
       "      <th>...</th>\n",
       "      <th>SVI_CTGY</th>\n",
       "      <th>Series_Complete_Pop_Pct_SVI</th>\n",
       "      <th>Series_Complete_12PlusPop_Pct_SVI</th>\n",
       "      <th>Series_Complete_18PlusPop_Pct_SVI</th>\n",
       "      <th>Series_Complete_65PlusPop_Pct_SVI</th>\n",
       "      <th>Metro_status</th>\n",
       "      <th>Series_Complete_Pop_Pct_UR_Equity</th>\n",
       "      <th>Series_Complete_12PlusPop_Pct_UR_Equity</th>\n",
       "      <th>Series_Complete_18PlusPop_Pct_UR_Equity</th>\n",
       "      <th>Series_Complete_65PlusPop_Pct_UR_Equity</th>\n",
       "    </tr>\n",
       "  </thead>\n",
       "  <tbody>\n",
       "    <tr>\n",
       "      <td>1178069</td>\n",
       "      <td>12/13/2020</td>\n",
       "      <td>17083</td>\n",
       "      <td>51</td>\n",
       "      <td>Jersey County</td>\n",
       "      <td>IL</td>\n",
       "      <td>0.0</td>\n",
       "      <td>0</td>\n",
       "      <td>0.0</td>\n",
       "      <td>0.0</td>\n",
       "      <td>0</td>\n",
       "      <td>...</td>\n",
       "      <td>A</td>\n",
       "      <td>NaN</td>\n",
       "      <td>NaN</td>\n",
       "      <td>NaN</td>\n",
       "      <td>NaN</td>\n",
       "      <td>Metro</td>\n",
       "      <td>NaN</td>\n",
       "      <td>NaN</td>\n",
       "      <td>NaN</td>\n",
       "      <td>NaN</td>\n",
       "    </tr>\n",
       "    <tr>\n",
       "      <td>1178070</td>\n",
       "      <td>12/13/2020</td>\n",
       "      <td>19099</td>\n",
       "      <td>51</td>\n",
       "      <td>Jasper County</td>\n",
       "      <td>IA</td>\n",
       "      <td>0.0</td>\n",
       "      <td>0</td>\n",
       "      <td>0.0</td>\n",
       "      <td>0.0</td>\n",
       "      <td>0</td>\n",
       "      <td>...</td>\n",
       "      <td>B</td>\n",
       "      <td>NaN</td>\n",
       "      <td>NaN</td>\n",
       "      <td>NaN</td>\n",
       "      <td>NaN</td>\n",
       "      <td>Non-metro</td>\n",
       "      <td>NaN</td>\n",
       "      <td>NaN</td>\n",
       "      <td>NaN</td>\n",
       "      <td>NaN</td>\n",
       "    </tr>\n",
       "    <tr>\n",
       "      <td>1178071</td>\n",
       "      <td>12/13/2020</td>\n",
       "      <td>40103</td>\n",
       "      <td>51</td>\n",
       "      <td>Noble County</td>\n",
       "      <td>OK</td>\n",
       "      <td>0.0</td>\n",
       "      <td>0</td>\n",
       "      <td>0.0</td>\n",
       "      <td>0.0</td>\n",
       "      <td>0</td>\n",
       "      <td>...</td>\n",
       "      <td>B</td>\n",
       "      <td>NaN</td>\n",
       "      <td>NaN</td>\n",
       "      <td>NaN</td>\n",
       "      <td>NaN</td>\n",
       "      <td>Non-metro</td>\n",
       "      <td>NaN</td>\n",
       "      <td>NaN</td>\n",
       "      <td>NaN</td>\n",
       "      <td>NaN</td>\n",
       "    </tr>\n",
       "    <tr>\n",
       "      <td>1178072</td>\n",
       "      <td>12/13/2020</td>\n",
       "      <td>21073</td>\n",
       "      <td>51</td>\n",
       "      <td>Franklin County</td>\n",
       "      <td>KY</td>\n",
       "      <td>0.0</td>\n",
       "      <td>0</td>\n",
       "      <td>0.0</td>\n",
       "      <td>0.0</td>\n",
       "      <td>0</td>\n",
       "      <td>...</td>\n",
       "      <td>C</td>\n",
       "      <td>NaN</td>\n",
       "      <td>NaN</td>\n",
       "      <td>NaN</td>\n",
       "      <td>NaN</td>\n",
       "      <td>Non-metro</td>\n",
       "      <td>NaN</td>\n",
       "      <td>NaN</td>\n",
       "      <td>NaN</td>\n",
       "      <td>NaN</td>\n",
       "    </tr>\n",
       "    <tr>\n",
       "      <td>1178073</td>\n",
       "      <td>12/13/2020</td>\n",
       "      <td>53001</td>\n",
       "      <td>51</td>\n",
       "      <td>Adams County</td>\n",
       "      <td>WA</td>\n",
       "      <td>0.0</td>\n",
       "      <td>0</td>\n",
       "      <td>0.0</td>\n",
       "      <td>0.0</td>\n",
       "      <td>0</td>\n",
       "      <td>...</td>\n",
       "      <td>D</td>\n",
       "      <td>NaN</td>\n",
       "      <td>NaN</td>\n",
       "      <td>NaN</td>\n",
       "      <td>NaN</td>\n",
       "      <td>Non-metro</td>\n",
       "      <td>NaN</td>\n",
       "      <td>NaN</td>\n",
       "      <td>NaN</td>\n",
       "      <td>NaN</td>\n",
       "    </tr>\n",
       "  </tbody>\n",
       "</table>\n",
       "<p>5 rows × 32 columns</p>\n",
       "</div>"
      ],
      "text/plain": [
       "               Date   FIPS  MMWR_week     Recip_County Recip_State  \\\n",
       "1178069  12/13/2020  17083         51    Jersey County          IL   \n",
       "1178070  12/13/2020  19099         51    Jasper County          IA   \n",
       "1178071  12/13/2020  40103         51     Noble County          OK   \n",
       "1178072  12/13/2020  21073         51  Franklin County          KY   \n",
       "1178073  12/13/2020  53001         51     Adams County          WA   \n",
       "\n",
       "         Series_Complete_Pop_Pct  Series_Complete_Yes  Series_Complete_12Plus  \\\n",
       "1178069                      0.0                    0                     0.0   \n",
       "1178070                      0.0                    0                     0.0   \n",
       "1178071                      0.0                    0                     0.0   \n",
       "1178072                      0.0                    0                     0.0   \n",
       "1178073                      0.0                    0                     0.0   \n",
       "\n",
       "         Series_Complete_12PlusPop_Pct  Series_Complete_18Plus  ...  SVI_CTGY  \\\n",
       "1178069                            0.0                       0  ...         A   \n",
       "1178070                            0.0                       0  ...         B   \n",
       "1178071                            0.0                       0  ...         B   \n",
       "1178072                            0.0                       0  ...         C   \n",
       "1178073                            0.0                       0  ...         D   \n",
       "\n",
       "         Series_Complete_Pop_Pct_SVI  Series_Complete_12PlusPop_Pct_SVI  \\\n",
       "1178069                          NaN                                NaN   \n",
       "1178070                          NaN                                NaN   \n",
       "1178071                          NaN                                NaN   \n",
       "1178072                          NaN                                NaN   \n",
       "1178073                          NaN                                NaN   \n",
       "\n",
       "         Series_Complete_18PlusPop_Pct_SVI  Series_Complete_65PlusPop_Pct_SVI  \\\n",
       "1178069                                NaN                                NaN   \n",
       "1178070                                NaN                                NaN   \n",
       "1178071                                NaN                                NaN   \n",
       "1178072                                NaN                                NaN   \n",
       "1178073                                NaN                                NaN   \n",
       "\n",
       "         Metro_status  Series_Complete_Pop_Pct_UR_Equity  \\\n",
       "1178069         Metro                                NaN   \n",
       "1178070     Non-metro                                NaN   \n",
       "1178071     Non-metro                                NaN   \n",
       "1178072     Non-metro                                NaN   \n",
       "1178073     Non-metro                                NaN   \n",
       "\n",
       "         Series_Complete_12PlusPop_Pct_UR_Equity  \\\n",
       "1178069                                      NaN   \n",
       "1178070                                      NaN   \n",
       "1178071                                      NaN   \n",
       "1178072                                      NaN   \n",
       "1178073                                      NaN   \n",
       "\n",
       "         Series_Complete_18PlusPop_Pct_UR_Equity  \\\n",
       "1178069                                      NaN   \n",
       "1178070                                      NaN   \n",
       "1178071                                      NaN   \n",
       "1178072                                      NaN   \n",
       "1178073                                      NaN   \n",
       "\n",
       "         Series_Complete_65PlusPop_Pct_UR_Equity  \n",
       "1178069                                      NaN  \n",
       "1178070                                      NaN  \n",
       "1178071                                      NaN  \n",
       "1178072                                      NaN  \n",
       "1178073                                      NaN  \n",
       "\n",
       "[5 rows x 32 columns]"
      ]
     },
     "execution_count": 4,
     "metadata": {},
     "output_type": "execute_result"
    }
   ],
   "source": [
    "covid_vaccine.tail()"
   ]
  },
  {
   "cell_type": "code",
   "execution_count": 5,
   "metadata": {},
   "outputs": [],
   "source": [
    "covid_cases_filtered = covid_cases[(covid_cases['Admin2']=='Fulton') & (covid_cases['Province_State']=='Georgia')]"
   ]
  },
  {
   "cell_type": "code",
   "execution_count": 6,
   "metadata": {},
   "outputs": [],
   "source": [
    "covid_vaccine_filtered = covid_vaccine[(covid_vaccine['Recip_County']=='Fulton County')&(covid_vaccine['Recip_State']=='GA')]"
   ]
  },
  {
   "cell_type": "code",
   "execution_count": 7,
   "metadata": {
    "scrolled": true
   },
   "outputs": [
    {
     "data": {
      "text/html": [
       "<div>\n",
       "<style scoped>\n",
       "    .dataframe tbody tr th:only-of-type {\n",
       "        vertical-align: middle;\n",
       "    }\n",
       "\n",
       "    .dataframe tbody tr th {\n",
       "        vertical-align: top;\n",
       "    }\n",
       "\n",
       "    .dataframe thead th {\n",
       "        text-align: right;\n",
       "    }\n",
       "</style>\n",
       "<table border=\"1\" class=\"dataframe\">\n",
       "  <thead>\n",
       "    <tr style=\"text-align: right;\">\n",
       "      <th></th>\n",
       "      <th>Date</th>\n",
       "      <th>FIPS</th>\n",
       "      <th>MMWR_week</th>\n",
       "      <th>Recip_County</th>\n",
       "      <th>Recip_State</th>\n",
       "      <th>Series_Complete_Pop_Pct</th>\n",
       "      <th>Series_Complete_Yes</th>\n",
       "      <th>Series_Complete_12Plus</th>\n",
       "      <th>Series_Complete_12PlusPop_Pct</th>\n",
       "      <th>Series_Complete_18Plus</th>\n",
       "      <th>...</th>\n",
       "      <th>SVI_CTGY</th>\n",
       "      <th>Series_Complete_Pop_Pct_SVI</th>\n",
       "      <th>Series_Complete_12PlusPop_Pct_SVI</th>\n",
       "      <th>Series_Complete_18PlusPop_Pct_SVI</th>\n",
       "      <th>Series_Complete_65PlusPop_Pct_SVI</th>\n",
       "      <th>Metro_status</th>\n",
       "      <th>Series_Complete_Pop_Pct_UR_Equity</th>\n",
       "      <th>Series_Complete_12PlusPop_Pct_UR_Equity</th>\n",
       "      <th>Series_Complete_18PlusPop_Pct_UR_Equity</th>\n",
       "      <th>Series_Complete_65PlusPop_Pct_UR_Equity</th>\n",
       "    </tr>\n",
       "  </thead>\n",
       "  <tbody>\n",
       "    <tr>\n",
       "      <td>1164590</td>\n",
       "      <td>12/17/2020</td>\n",
       "      <td>13121</td>\n",
       "      <td>51</td>\n",
       "      <td>Fulton County</td>\n",
       "      <td>GA</td>\n",
       "      <td>0.0</td>\n",
       "      <td>0</td>\n",
       "      <td>0.0</td>\n",
       "      <td>0.0</td>\n",
       "      <td>0</td>\n",
       "      <td>...</td>\n",
       "      <td>C</td>\n",
       "      <td>NaN</td>\n",
       "      <td>NaN</td>\n",
       "      <td>NaN</td>\n",
       "      <td>NaN</td>\n",
       "      <td>Metro</td>\n",
       "      <td>NaN</td>\n",
       "      <td>NaN</td>\n",
       "      <td>NaN</td>\n",
       "      <td>NaN</td>\n",
       "    </tr>\n",
       "    <tr>\n",
       "      <td>1168271</td>\n",
       "      <td>12/16/2020</td>\n",
       "      <td>13121</td>\n",
       "      <td>51</td>\n",
       "      <td>Fulton County</td>\n",
       "      <td>GA</td>\n",
       "      <td>0.0</td>\n",
       "      <td>0</td>\n",
       "      <td>0.0</td>\n",
       "      <td>0.0</td>\n",
       "      <td>0</td>\n",
       "      <td>...</td>\n",
       "      <td>C</td>\n",
       "      <td>NaN</td>\n",
       "      <td>NaN</td>\n",
       "      <td>NaN</td>\n",
       "      <td>NaN</td>\n",
       "      <td>Metro</td>\n",
       "      <td>NaN</td>\n",
       "      <td>NaN</td>\n",
       "      <td>NaN</td>\n",
       "      <td>NaN</td>\n",
       "    </tr>\n",
       "    <tr>\n",
       "      <td>1170008</td>\n",
       "      <td>12/15/2020</td>\n",
       "      <td>13121</td>\n",
       "      <td>51</td>\n",
       "      <td>Fulton County</td>\n",
       "      <td>GA</td>\n",
       "      <td>0.0</td>\n",
       "      <td>0</td>\n",
       "      <td>0.0</td>\n",
       "      <td>0.0</td>\n",
       "      <td>0</td>\n",
       "      <td>...</td>\n",
       "      <td>C</td>\n",
       "      <td>NaN</td>\n",
       "      <td>NaN</td>\n",
       "      <td>NaN</td>\n",
       "      <td>NaN</td>\n",
       "      <td>Metro</td>\n",
       "      <td>NaN</td>\n",
       "      <td>NaN</td>\n",
       "      <td>NaN</td>\n",
       "      <td>NaN</td>\n",
       "    </tr>\n",
       "    <tr>\n",
       "      <td>1173573</td>\n",
       "      <td>12/14/2020</td>\n",
       "      <td>13121</td>\n",
       "      <td>51</td>\n",
       "      <td>Fulton County</td>\n",
       "      <td>GA</td>\n",
       "      <td>0.0</td>\n",
       "      <td>0</td>\n",
       "      <td>0.0</td>\n",
       "      <td>0.0</td>\n",
       "      <td>0</td>\n",
       "      <td>...</td>\n",
       "      <td>C</td>\n",
       "      <td>NaN</td>\n",
       "      <td>NaN</td>\n",
       "      <td>NaN</td>\n",
       "      <td>NaN</td>\n",
       "      <td>Metro</td>\n",
       "      <td>NaN</td>\n",
       "      <td>NaN</td>\n",
       "      <td>NaN</td>\n",
       "      <td>NaN</td>\n",
       "    </tr>\n",
       "    <tr>\n",
       "      <td>1177704</td>\n",
       "      <td>12/13/2020</td>\n",
       "      <td>13121</td>\n",
       "      <td>51</td>\n",
       "      <td>Fulton County</td>\n",
       "      <td>GA</td>\n",
       "      <td>0.0</td>\n",
       "      <td>0</td>\n",
       "      <td>0.0</td>\n",
       "      <td>0.0</td>\n",
       "      <td>0</td>\n",
       "      <td>...</td>\n",
       "      <td>C</td>\n",
       "      <td>NaN</td>\n",
       "      <td>NaN</td>\n",
       "      <td>NaN</td>\n",
       "      <td>NaN</td>\n",
       "      <td>Metro</td>\n",
       "      <td>NaN</td>\n",
       "      <td>NaN</td>\n",
       "      <td>NaN</td>\n",
       "      <td>NaN</td>\n",
       "    </tr>\n",
       "  </tbody>\n",
       "</table>\n",
       "<p>5 rows × 32 columns</p>\n",
       "</div>"
      ],
      "text/plain": [
       "               Date   FIPS  MMWR_week   Recip_County Recip_State  \\\n",
       "1164590  12/17/2020  13121         51  Fulton County          GA   \n",
       "1168271  12/16/2020  13121         51  Fulton County          GA   \n",
       "1170008  12/15/2020  13121         51  Fulton County          GA   \n",
       "1173573  12/14/2020  13121         51  Fulton County          GA   \n",
       "1177704  12/13/2020  13121         51  Fulton County          GA   \n",
       "\n",
       "         Series_Complete_Pop_Pct  Series_Complete_Yes  Series_Complete_12Plus  \\\n",
       "1164590                      0.0                    0                     0.0   \n",
       "1168271                      0.0                    0                     0.0   \n",
       "1170008                      0.0                    0                     0.0   \n",
       "1173573                      0.0                    0                     0.0   \n",
       "1177704                      0.0                    0                     0.0   \n",
       "\n",
       "         Series_Complete_12PlusPop_Pct  Series_Complete_18Plus  ...  SVI_CTGY  \\\n",
       "1164590                            0.0                       0  ...         C   \n",
       "1168271                            0.0                       0  ...         C   \n",
       "1170008                            0.0                       0  ...         C   \n",
       "1173573                            0.0                       0  ...         C   \n",
       "1177704                            0.0                       0  ...         C   \n",
       "\n",
       "         Series_Complete_Pop_Pct_SVI  Series_Complete_12PlusPop_Pct_SVI  \\\n",
       "1164590                          NaN                                NaN   \n",
       "1168271                          NaN                                NaN   \n",
       "1170008                          NaN                                NaN   \n",
       "1173573                          NaN                                NaN   \n",
       "1177704                          NaN                                NaN   \n",
       "\n",
       "         Series_Complete_18PlusPop_Pct_SVI  Series_Complete_65PlusPop_Pct_SVI  \\\n",
       "1164590                                NaN                                NaN   \n",
       "1168271                                NaN                                NaN   \n",
       "1170008                                NaN                                NaN   \n",
       "1173573                                NaN                                NaN   \n",
       "1177704                                NaN                                NaN   \n",
       "\n",
       "         Metro_status  Series_Complete_Pop_Pct_UR_Equity  \\\n",
       "1164590         Metro                                NaN   \n",
       "1168271         Metro                                NaN   \n",
       "1170008         Metro                                NaN   \n",
       "1173573         Metro                                NaN   \n",
       "1177704         Metro                                NaN   \n",
       "\n",
       "         Series_Complete_12PlusPop_Pct_UR_Equity  \\\n",
       "1164590                                      NaN   \n",
       "1168271                                      NaN   \n",
       "1170008                                      NaN   \n",
       "1173573                                      NaN   \n",
       "1177704                                      NaN   \n",
       "\n",
       "         Series_Complete_18PlusPop_Pct_UR_Equity  \\\n",
       "1164590                                      NaN   \n",
       "1168271                                      NaN   \n",
       "1170008                                      NaN   \n",
       "1173573                                      NaN   \n",
       "1177704                                      NaN   \n",
       "\n",
       "         Series_Complete_65PlusPop_Pct_UR_Equity  \n",
       "1164590                                      NaN  \n",
       "1168271                                      NaN  \n",
       "1170008                                      NaN  \n",
       "1173573                                      NaN  \n",
       "1177704                                      NaN  \n",
       "\n",
       "[5 rows x 32 columns]"
      ]
     },
     "execution_count": 7,
     "metadata": {},
     "output_type": "execute_result"
    }
   ],
   "source": [
    "# dates: 12/13/20 to 12/06/21\n",
    "covid_vaccine_filtered.tail()"
   ]
  },
  {
   "cell_type": "code",
   "execution_count": 8,
   "metadata": {},
   "outputs": [
    {
     "data": {
      "text/html": [
       "<div>\n",
       "<style scoped>\n",
       "    .dataframe tbody tr th:only-of-type {\n",
       "        vertical-align: middle;\n",
       "    }\n",
       "\n",
       "    .dataframe tbody tr th {\n",
       "        vertical-align: top;\n",
       "    }\n",
       "\n",
       "    .dataframe thead th {\n",
       "        text-align: right;\n",
       "    }\n",
       "</style>\n",
       "<table border=\"1\" class=\"dataframe\">\n",
       "  <thead>\n",
       "    <tr style=\"text-align: right;\">\n",
       "      <th></th>\n",
       "      <th>Province_State</th>\n",
       "      <th>Admin2</th>\n",
       "      <th>UID</th>\n",
       "      <th>iso2</th>\n",
       "      <th>iso3</th>\n",
       "      <th>code3</th>\n",
       "      <th>FIPS</th>\n",
       "      <th>Country_Region</th>\n",
       "      <th>Lat</th>\n",
       "      <th>Long_</th>\n",
       "      <th>...</th>\n",
       "      <th>10/23/21</th>\n",
       "      <th>10/24/21</th>\n",
       "      <th>10/25/21</th>\n",
       "      <th>10/26/21</th>\n",
       "      <th>10/27/21</th>\n",
       "      <th>10/28/21</th>\n",
       "      <th>10/29/21</th>\n",
       "      <th>10/30/21</th>\n",
       "      <th>10/31/21</th>\n",
       "      <th>11/1/21</th>\n",
       "    </tr>\n",
       "  </thead>\n",
       "  <tbody>\n",
       "    <tr>\n",
       "      <td>470</td>\n",
       "      <td>Georgia</td>\n",
       "      <td>Fulton</td>\n",
       "      <td>84013121</td>\n",
       "      <td>US</td>\n",
       "      <td>USA</td>\n",
       "      <td>840</td>\n",
       "      <td>13121.0</td>\n",
       "      <td>US</td>\n",
       "      <td>33.792169</td>\n",
       "      <td>-84.463194</td>\n",
       "      <td>...</td>\n",
       "      <td>131261</td>\n",
       "      <td>131261</td>\n",
       "      <td>131476</td>\n",
       "      <td>131559</td>\n",
       "      <td>131658</td>\n",
       "      <td>131781</td>\n",
       "      <td>131898</td>\n",
       "      <td>131898</td>\n",
       "      <td>131898</td>\n",
       "      <td>132103</td>\n",
       "    </tr>\n",
       "  </tbody>\n",
       "</table>\n",
       "<p>1 rows × 661 columns</p>\n",
       "</div>"
      ],
      "text/plain": [
       "    Province_State  Admin2       UID iso2 iso3  code3     FIPS Country_Region  \\\n",
       "470        Georgia  Fulton  84013121   US  USA    840  13121.0             US   \n",
       "\n",
       "           Lat      Long_  ... 10/23/21  10/24/21  10/25/21  10/26/21  \\\n",
       "470  33.792169 -84.463194  ...   131261    131261    131476    131559   \n",
       "\n",
       "     10/27/21  10/28/21  10/29/21  10/30/21  10/31/21  11/1/21  \n",
       "470    131658    131781    131898    131898    131898   132103  \n",
       "\n",
       "[1 rows x 661 columns]"
      ]
     },
     "execution_count": 8,
     "metadata": {},
     "output_type": "execute_result"
    }
   ],
   "source": [
    "## dates only from to 04/10 to 08/15, inclusive\n",
    "covid_cases_filtered.head()"
   ]
  },
  {
   "cell_type": "markdown",
   "metadata": {},
   "source": [
    "## Data Preprocessing"
   ]
  },
  {
   "cell_type": "markdown",
   "metadata": {},
   "source": [
    "In this section, we process the data by finding covid cases counts and merging tables."
   ]
  },
  {
   "cell_type": "code",
   "execution_count": 9,
   "metadata": {},
   "outputs": [],
   "source": [
    "covid_cases_unpivot=pd.melt(covid_cases_filtered, id_vars=['Province_State', 'Admin2', 'UID', 'iso2', 'iso3', 'code3', 'FIPS',\n",
    "       'Country_Region', 'Lat', 'Long_', 'Combined_Key'], var_name='date', value_name='infected')"
   ]
  },
  {
   "cell_type": "code",
   "execution_count": 10,
   "metadata": {},
   "outputs": [],
   "source": [
    "# This function formats the date for joining purpose\n",
    "def transform_date(date):\n",
    "    date_parts = date.split('/')\n",
    "    month = date_parts[0]\n",
    "    day = date_parts[1]\n",
    "    year = date_parts[2]\n",
    "    if month[0]=='0':\n",
    "        month = month[1]\n",
    "    if day[0]=='0':\n",
    "        day = day[1]\n",
    "    \n",
    "    return month+'/'+day+'/'+year"
   ]
  },
  {
   "cell_type": "code",
   "execution_count": 11,
   "metadata": {},
   "outputs": [
    {
     "name": "stderr",
     "output_type": "stream",
     "text": [
      "/Users/zhangjunhao/opt/anaconda3/lib/python3.7/site-packages/ipykernel_launcher.py:3: SettingWithCopyWarning: \n",
      "A value is trying to be set on a copy of a slice from a DataFrame.\n",
      "Try using .loc[row_indexer,col_indexer] = value instead\n",
      "\n",
      "See the caveats in the documentation: http://pandas.pydata.org/pandas-docs/stable/user_guide/indexing.html#returning-a-view-versus-a-copy\n",
      "  This is separate from the ipykernel package so we can avoid doing imports until\n",
      "/Users/zhangjunhao/opt/anaconda3/lib/python3.7/site-packages/ipykernel_launcher.py:4: SettingWithCopyWarning: \n",
      "A value is trying to be set on a copy of a slice from a DataFrame.\n",
      "Try using .loc[row_indexer,col_indexer] = value instead\n",
      "\n",
      "See the caveats in the documentation: http://pandas.pydata.org/pandas-docs/stable/user_guide/indexing.html#returning-a-view-versus-a-copy\n",
      "  after removing the cwd from sys.path.\n"
     ]
    }
   ],
   "source": [
    "covid_cases_by_date = covid_cases_unpivot[['date', 'infected']]\n",
    "covid_vaccine_by_date = covid_vaccine_filtered[['Date','Series_Complete_Pop_Pct']]\n",
    "covid_vaccine_by_date['date'] = covid_vaccine_by_date['Date'].apply(lambda x: x[:-4]+x[-2:])\n",
    "covid_vaccine_by_date['date'] = covid_vaccine_by_date['date'].apply(lambda x: transform_date(x))"
   ]
  },
  {
   "cell_type": "code",
   "execution_count": 12,
   "metadata": {},
   "outputs": [
    {
     "data": {
      "text/plain": [
       "(359, 3)"
      ]
     },
     "execution_count": 12,
     "metadata": {},
     "output_type": "execute_result"
    }
   ],
   "source": [
    "covid_vaccine_by_date.shape"
   ]
  },
  {
   "cell_type": "code",
   "execution_count": 13,
   "metadata": {},
   "outputs": [],
   "source": [
    "covid_cases_and_vaccine = covid_cases_by_date.merge(covid_vaccine_by_date, how='inner', on='date')"
   ]
  },
  {
   "cell_type": "code",
   "execution_count": 14,
   "metadata": {
    "scrolled": true
   },
   "outputs": [
    {
     "data": {
      "text/html": [
       "<div>\n",
       "<style scoped>\n",
       "    .dataframe tbody tr th:only-of-type {\n",
       "        vertical-align: middle;\n",
       "    }\n",
       "\n",
       "    .dataframe tbody tr th {\n",
       "        vertical-align: top;\n",
       "    }\n",
       "\n",
       "    .dataframe thead th {\n",
       "        text-align: right;\n",
       "    }\n",
       "</style>\n",
       "<table border=\"1\" class=\"dataframe\">\n",
       "  <thead>\n",
       "    <tr style=\"text-align: right;\">\n",
       "      <th></th>\n",
       "      <th>date</th>\n",
       "      <th>infected</th>\n",
       "      <th>Date</th>\n",
       "      <th>Series_Complete_Pop_Pct</th>\n",
       "    </tr>\n",
       "  </thead>\n",
       "  <tbody>\n",
       "    <tr>\n",
       "      <td>0</td>\n",
       "      <td>12/13/20</td>\n",
       "      <td>46896</td>\n",
       "      <td>12/13/2020</td>\n",
       "      <td>0.0</td>\n",
       "    </tr>\n",
       "    <tr>\n",
       "      <td>1</td>\n",
       "      <td>12/14/20</td>\n",
       "      <td>47182</td>\n",
       "      <td>12/14/2020</td>\n",
       "      <td>0.0</td>\n",
       "    </tr>\n",
       "    <tr>\n",
       "      <td>2</td>\n",
       "      <td>12/15/20</td>\n",
       "      <td>47904</td>\n",
       "      <td>12/15/2020</td>\n",
       "      <td>0.0</td>\n",
       "    </tr>\n",
       "    <tr>\n",
       "      <td>3</td>\n",
       "      <td>12/16/20</td>\n",
       "      <td>48414</td>\n",
       "      <td>12/16/2020</td>\n",
       "      <td>0.0</td>\n",
       "    </tr>\n",
       "    <tr>\n",
       "      <td>4</td>\n",
       "      <td>12/17/20</td>\n",
       "      <td>49072</td>\n",
       "      <td>12/17/2020</td>\n",
       "      <td>0.0</td>\n",
       "    </tr>\n",
       "  </tbody>\n",
       "</table>\n",
       "</div>"
      ],
      "text/plain": [
       "       date  infected        Date  Series_Complete_Pop_Pct\n",
       "0  12/13/20     46896  12/13/2020                      0.0\n",
       "1  12/14/20     47182  12/14/2020                      0.0\n",
       "2  12/15/20     47904  12/15/2020                      0.0\n",
       "3  12/16/20     48414  12/16/2020                      0.0\n",
       "4  12/17/20     49072  12/17/2020                      0.0"
      ]
     },
     "execution_count": 14,
     "metadata": {},
     "output_type": "execute_result"
    }
   ],
   "source": [
    "covid_cases_and_vaccine.head()"
   ]
  },
  {
   "cell_type": "markdown",
   "metadata": {},
   "source": [
    "## Data Analysis: Fulton County"
   ]
  },
  {
   "cell_type": "markdown",
   "metadata": {},
   "source": [
    "In this section, we plot the infection rates of Fulton County and see if there are any differences with or without mask mandates."
   ]
  },
  {
   "cell_type": "code",
   "execution_count": 15,
   "metadata": {},
   "outputs": [],
   "source": [
    "dates = pd.date_range('2020-12-13', '2021-11-01')"
   ]
  },
  {
   "cell_type": "code",
   "execution_count": 16,
   "metadata": {},
   "outputs": [],
   "source": [
    "fulton_population = 1064000\n",
    "cumulative_infected = list(covid_cases_and_vaccine['infected'])\n",
    "cumulative_infected = [x/fulton_population for x in cumulative_infected]"
   ]
  },
  {
   "cell_type": "code",
   "execution_count": 17,
   "metadata": {},
   "outputs": [
    {
     "name": "stderr",
     "output_type": "stream",
     "text": [
      "/Users/zhangjunhao/opt/anaconda3/lib/python3.7/site-packages/pandas/plotting/_matplotlib/converter.py:103: FutureWarning: Using an implicitly registered datetime converter for a matplotlib plotting method. The converter was registered by pandas on import. Future versions of pandas will require you to explicitly register matplotlib converters.\n",
      "\n",
      "To register the converters:\n",
      "\t>>> from pandas.plotting import register_matplotlib_converters\n",
      "\t>>> register_matplotlib_converters()\n",
      "  warnings.warn(msg, FutureWarning)\n"
     ]
    },
    {
     "data": {
      "text/plain": [
       "<matplotlib.legend.Legend at 0x7f7f2f0f8c90>"
      ]
     },
     "execution_count": 17,
     "metadata": {},
     "output_type": "execute_result"
    },
    {
     "data": {
      "image/png": "[encoded data removed]",
      "text/plain": [
       "<Figure size 1008x576 with 1 Axes>"
      ]
     },
     "metadata": {
      "needs_background": "light"
     },
     "output_type": "display_data"
    }
   ],
   "source": [
    "plt.figure(figsize=(14, 8))\n",
    "plt.plot(list(dates), cumulative_infected, color='C0', label='Rate of Infection *100')\n",
    "plt.plot(list(dates), covid_cases_and_vaccine['Series_Complete_Pop_Pct'], color='C1', label='Rate of Vaccination')\n",
    "\n",
    "plt.title(\"COVID 19 Cumulative Rate of Infection and Vaccination for Fulton, GA (Scale Adjusted)\")\n",
    "plt.xlabel(\"Time\")\n",
    "plt.ylabel(\"Rates\")\n",
    "plt.legend()"
   ]
  },
  {
   "cell_type": "code",
   "execution_count": 18,
   "metadata": {},
   "outputs": [],
   "source": [
    "daily_infected = [(cumulative_infected[i]-cumulative_infected[i-1]) for i in range(1,len(cumulative_infected))]"
   ]
  },
  {
   "cell_type": "code",
   "execution_count": 19,
   "metadata": {},
   "outputs": [],
   "source": [
    "daily_infected_smoothed = [sum(daily_infected[i-7:i])/7 for i in range(7,len(daily_infected))]"
   ]
  },
  {
   "cell_type": "code",
   "execution_count": 20,
   "metadata": {},
   "outputs": [
    {
     "data": {
      "text/plain": [
       "<matplotlib.legend.Legend at 0x7f7f2f5a5250>"
      ]
     },
     "execution_count": 20,
     "metadata": {},
     "output_type": "execute_result"
    },
    {
     "data": {
      "image/png": "[encoded data removed]",
      "text/plain": [
       "<Figure size 1008x576 with 1 Axes>"
      ]
     },
     "metadata": {
      "needs_background": "light"
     },
     "output_type": "display_data"
    }
   ],
   "source": [
    "plt.figure(figsize=(14, 8))\n",
    "plt.plot(list(dates)[:-8], daily_infected_smoothed, color='C0', label='Daily Rate of Infection*10000')\n",
    "plt.plot(list(dates)[:-8], list(covid_cases_and_vaccine['Series_Complete_Pop_Pct'])[:-8], color='C1', label='Cumulative Rate of Vaccination')\n",
    "\n",
    "plt.title(\"COVID 19 Daily Rate of Infection (Smoothed) and Vaccination Rate for Fulton, GA (Scale Adjusted)\")\n",
    "plt.xlabel(\"Time\")\n",
    "plt.ylabel(\"Rates\")\n",
    "plt.legend()"
   ]
  },
  {
   "cell_type": "markdown",
   "metadata": {},
   "source": [
    "## Data Analysis: Fulton County vs. Valley County"
   ]
  },
  {
   "cell_type": "markdown",
   "metadata": {},
   "source": [
    "In this section, we compare Fulton County's data with Valley County because Valley county has low mask wearing rate based on the mask wearing survey.\n",
    "Here we only compare the vaccination rate difference. For infection rate, see common analysis."
   ]
  },
  {
   "cell_type": "code",
   "execution_count": 21,
   "metadata": {},
   "outputs": [],
   "source": [
    "covid_cases_valley = covid_cases[(covid_cases['Admin2']=='Valley') & (covid_cases['Province_State']=='Montana')]\n",
    "covid_vaccine_valley = covid_vaccine[(covid_vaccine['Recip_County']=='Valley County')&(covid_vaccine['Recip_State']=='MT')]"
   ]
  },
  {
   "cell_type": "code",
   "execution_count": 22,
   "metadata": {},
   "outputs": [
    {
     "data": {
      "text/html": [
       "<div>\n",
       "<style scoped>\n",
       "    .dataframe tbody tr th:only-of-type {\n",
       "        vertical-align: middle;\n",
       "    }\n",
       "\n",
       "    .dataframe tbody tr th {\n",
       "        vertical-align: top;\n",
       "    }\n",
       "\n",
       "    .dataframe thead th {\n",
       "        text-align: right;\n",
       "    }\n",
       "</style>\n",
       "<table border=\"1\" class=\"dataframe\">\n",
       "  <thead>\n",
       "    <tr style=\"text-align: right;\">\n",
       "      <th></th>\n",
       "      <th>Province_State</th>\n",
       "      <th>Admin2</th>\n",
       "      <th>UID</th>\n",
       "      <th>iso2</th>\n",
       "      <th>iso3</th>\n",
       "      <th>code3</th>\n",
       "      <th>FIPS</th>\n",
       "      <th>Country_Region</th>\n",
       "      <th>Lat</th>\n",
       "      <th>Long_</th>\n",
       "      <th>...</th>\n",
       "      <th>10/23/21</th>\n",
       "      <th>10/24/21</th>\n",
       "      <th>10/25/21</th>\n",
       "      <th>10/26/21</th>\n",
       "      <th>10/27/21</th>\n",
       "      <th>10/28/21</th>\n",
       "      <th>10/29/21</th>\n",
       "      <th>10/30/21</th>\n",
       "      <th>10/31/21</th>\n",
       "      <th>11/1/21</th>\n",
       "    </tr>\n",
       "  </thead>\n",
       "  <tbody>\n",
       "    <tr>\n",
       "      <td>1714</td>\n",
       "      <td>Montana</td>\n",
       "      <td>Valley</td>\n",
       "      <td>84030105</td>\n",
       "      <td>US</td>\n",
       "      <td>USA</td>\n",
       "      <td>840</td>\n",
       "      <td>30105.0</td>\n",
       "      <td>US</td>\n",
       "      <td>48.364351</td>\n",
       "      <td>-106.666963</td>\n",
       "      <td>...</td>\n",
       "      <td>1244</td>\n",
       "      <td>1244</td>\n",
       "      <td>1244</td>\n",
       "      <td>1254</td>\n",
       "      <td>1254</td>\n",
       "      <td>1254</td>\n",
       "      <td>1268</td>\n",
       "      <td>1268</td>\n",
       "      <td>1268</td>\n",
       "      <td>1276</td>\n",
       "    </tr>\n",
       "  </tbody>\n",
       "</table>\n",
       "<p>1 rows × 661 columns</p>\n",
       "</div>"
      ],
      "text/plain": [
       "     Province_State  Admin2       UID iso2 iso3  code3     FIPS  \\\n",
       "1714        Montana  Valley  84030105   US  USA    840  30105.0   \n",
       "\n",
       "     Country_Region        Lat       Long_  ... 10/23/21  10/24/21  10/25/21  \\\n",
       "1714             US  48.364351 -106.666963  ...     1244      1244      1244   \n",
       "\n",
       "      10/26/21  10/27/21  10/28/21  10/29/21  10/30/21  10/31/21  11/1/21  \n",
       "1714      1254      1254      1254      1268      1268      1268     1276  \n",
       "\n",
       "[1 rows x 661 columns]"
      ]
     },
     "execution_count": 22,
     "metadata": {},
     "output_type": "execute_result"
    }
   ],
   "source": [
    "covid_cases_valley.head()"
   ]
  },
  {
   "cell_type": "code",
   "execution_count": 23,
   "metadata": {},
   "outputs": [],
   "source": [
    "covid_cases_unpivot_valley=pd.melt(covid_cases_valley, id_vars=['Province_State', 'Admin2', 'UID', 'iso2', 'iso3', 'code3', 'FIPS',\n",
    "       'Country_Region', 'Lat', 'Long_', 'Combined_Key'], var_name='date', value_name='infected')"
   ]
  },
  {
   "cell_type": "code",
   "execution_count": 24,
   "metadata": {},
   "outputs": [
    {
     "name": "stderr",
     "output_type": "stream",
     "text": [
      "/Users/zhangjunhao/opt/anaconda3/lib/python3.7/site-packages/ipykernel_launcher.py:3: SettingWithCopyWarning: \n",
      "A value is trying to be set on a copy of a slice from a DataFrame.\n",
      "Try using .loc[row_indexer,col_indexer] = value instead\n",
      "\n",
      "See the caveats in the documentation: http://pandas.pydata.org/pandas-docs/stable/user_guide/indexing.html#returning-a-view-versus-a-copy\n",
      "  This is separate from the ipykernel package so we can avoid doing imports until\n",
      "/Users/zhangjunhao/opt/anaconda3/lib/python3.7/site-packages/ipykernel_launcher.py:4: SettingWithCopyWarning: \n",
      "A value is trying to be set on a copy of a slice from a DataFrame.\n",
      "Try using .loc[row_indexer,col_indexer] = value instead\n",
      "\n",
      "See the caveats in the documentation: http://pandas.pydata.org/pandas-docs/stable/user_guide/indexing.html#returning-a-view-versus-a-copy\n",
      "  after removing the cwd from sys.path.\n"
     ]
    }
   ],
   "source": [
    "covid_cases_by_date_valley = covid_cases_unpivot_valley[['date', 'infected']]\n",
    "covid_vaccine_by_date_valley = covid_vaccine_valley[['Date','Series_Complete_Pop_Pct']]\n",
    "covid_vaccine_by_date_valley['date'] = covid_vaccine_by_date_valley['Date'].apply(lambda x: x[:-4]+x[-2:])\n",
    "covid_vaccine_by_date_valley['date'] = covid_vaccine_by_date_valley['date'].apply(lambda x: transform_date(x))"
   ]
  },
  {
   "cell_type": "code",
   "execution_count": 25,
   "metadata": {},
   "outputs": [],
   "source": [
    "covid_cases_and_vaccine_valley = covid_cases_by_date_valley.merge(covid_vaccine_by_date_valley, how='inner', on='date')"
   ]
  },
  {
   "cell_type": "code",
   "execution_count": 26,
   "metadata": {},
   "outputs": [],
   "source": [
    "valley_population=7471\n",
    "cumulative_infected_valley = list(covid_cases_and_vaccine_valley['infected'])\n",
    "cumulative_infected_valley = [x/valley_population for x in cumulative_infected_valley]"
   ]
  },
  {
   "cell_type": "code",
   "execution_count": 27,
   "metadata": {},
   "outputs": [
    {
     "data": {
      "text/plain": [
       "<matplotlib.legend.Legend at 0x7f7f2f9916d0>"
      ]
     },
     "execution_count": 27,
     "metadata": {},
     "output_type": "execute_result"
    },
    {
     "data": {
      "image/png": "[encoded data removed]",
      "text/plain": [
       "<Figure size 1008x576 with 1 Axes>"
      ]
     },
     "metadata": {
      "needs_background": "light"
     },
     "output_type": "display_data"
    }
   ],
   "source": [
    "plt.figure(figsize=(14, 8))\n",
    "plt.plot(list(dates), covid_cases_and_vaccine['Series_Complete_Pop_Pct'], color='C0', label='Rate of Vaccination for Fulton, GA')\n",
    "plt.plot(list(dates), covid_cases_and_vaccine_valley['Series_Complete_Pop_Pct'], color='C1', label='Rate of Vaccination for Valley, MT')\n",
    "\n",
    "plt.title(\"COVID 19 Vaccination Rates for Fulton, GA and Valley, MT\")\n",
    "plt.xlabel(\"Time\")\n",
    "plt.ylabel(\"Vaccination Rates\")\n",
    "plt.legend()"
   ]
  },
  {
   "cell_type": "code",
   "execution_count": null,
   "metadata": {},
   "outputs": [],
   "source": []
  }
 ],
 "metadata": {
  "kernelspec": {
   "display_name": "Python 3",
   "language": "python",
   "name": "python3"
  },
  "language_info": {
   "codemirror_mode": {
    "name": "ipython",
    "version": 3
   },
   "file_extension": ".py",
   "mimetype": "text/x-python",
   "name": "python",
   "nbconvert_exporter": "python",
   "pygments_lexer": "ipython3",
   "version": "3.7.4"
  }
 },
 "nbformat": 4,
 "nbformat_minor": 2
}
